{
 "cells": [
  {
   "cell_type": "code",
   "execution_count": null,
   "metadata": {},
   "outputs": [],
   "source": [
    "\"\"\" Question: Wait circumference Vs Adipose tissue data\"\"\"\n",
    "\n",
    "\"\"\" a) Excess adipose tissue in abdominal region have higher risk of cardic vasular disease\n",
    "    b) CT scan (computed Tomography) isthe only technique that allows for presice measurement of adipose tissue\n",
    "    c) But problem with CT scan are \n",
    "        - many doctors dont have CT scan\n",
    "        -irradition\n",
    "        -Expensive\n",
    "    d) Is there any simple reasonable way to calculate Adipose Tissue\n",
    "        - Easily available\n",
    "        - risk free\n",
    "        - Inexpensive\n",
    "    e) Research found AT can be predictedby measurement of human body\n",
    "    f) WC(waist circumference) by using which we can predict AT\"\"\""
   ]
  },
  {
   "cell_type": "code",
   "execution_count": 26,
   "metadata": {},
   "outputs": [
    {
     "name": "stdout",
     "output_type": "stream",
     "text": [
      "                            OLS Regression Results                            \n",
      "==============================================================================\n",
      "Dep. Variable:                     AT   R-squared:                       0.670\n",
      "Model:                            OLS   Adj. R-squared:                  0.667\n",
      "Method:                 Least Squares   F-statistic:                     217.3\n",
      "Date:                Mon, 13 Apr 2020   Prob (F-statistic):           1.62e-27\n",
      "Time:                        19:29:59   Log-Likelihood:                -534.99\n",
      "No. Observations:                 109   AIC:                             1074.\n",
      "Df Residuals:                     107   BIC:                             1079.\n",
      "Df Model:                           1                                         \n",
      "Covariance Type:            nonrobust                                         \n",
      "==============================================================================\n",
      "                 coef    std err          t      P>|t|      [0.025      0.975]\n",
      "------------------------------------------------------------------------------\n",
      "Intercept   -215.9815     21.796     -9.909      0.000    -259.190    -172.773\n",
      "Waist          3.4589      0.235     14.740      0.000       2.994       3.924\n",
      "==============================================================================\n",
      "Omnibus:                        3.960   Durbin-Watson:                   1.560\n",
      "Prob(Omnibus):                  0.138   Jarque-Bera (JB):                4.596\n",
      "Skew:                           0.104   Prob(JB):                        0.100\n",
      "Kurtosis:                       3.984   Cond. No.                         639.\n",
      "==============================================================================\n",
      "\n",
      "Warnings:\n",
      "[1] Standard Errors assume that the covariance matrix of the errors is correctly specified.\n"
     ]
    }
   ],
   "source": [
    "import pandas as pd\n",
    "import numpy as np\n",
    "import matplotlib.pyplot as plt\n",
    "import statsmodels.formula.api as smf\n",
    "\n",
    "# read CSV file\n",
    "\n",
    "df=pd.read_csv(\"C:/Users/Swathi/Desktop/Excelr Classes/Assignments/Assignment 1/wc-at.csv\")\n",
    "# print(df.shape)\n",
    "# print(df.head())\n",
    "\n",
    "\n",
    "# Lets try to visualize data using histogram or scatterplot (preferable)\n",
    "\n",
    "# plt.hist(df.Waist)\n",
    "# plt.show()\n",
    "\n",
    "# plt.plot(df.Waist,df.AT,\"o\") # \"0\" gives dot on chart, \"X\" gives x marker\n",
    "# plt.show()\n",
    "\n",
    "# as data is small, we shall not split data into test and train\n",
    "\n",
    "# Apply simple linear regression formula\n",
    "#syntax: Model_name = smf.ols(\"yaxis~Xaxis\",data=dataframe).fit()\n",
    "\n",
    "slr_model=smf.ols(\"AT~Waist\",data=df).fit()\n",
    "\n",
    "#here, .ols=Ordinary least square built in fnction; \"AT(Yaxis)~Waist(x axis)\" ; .fit() is to start training process\n",
    "\n",
    "# also, GDA will be initialized; GDA initialize weight parameter, perform multiple iteration and global minima/best weight parameter is obtained\n",
    "\n",
    "print(slr_model.summary())\n"
   ]
  },
  {
   "cell_type": "code",
   "execution_count": null,
   "metadata": {},
   "outputs": [],
   "source": [
    "\"\"\"from above output note values for:\n",
    "R square= 0.67 i.e model is 67% accurate\n",
    "Intercept = W0= -215.9815\n",
    "Waist (value below intercept) = W1= 3.4589\n",
    "Standard Error = 21.796\"\"\""
   ]
  },
  {
   "cell_type": "code",
   "execution_count": 27,
   "metadata": {},
   "outputs": [],
   "source": [
    "# use model for performing predictions\n",
    "\n",
    "prediction=slr_model.predict(df.iloc[:,0])  # . predict is inbuilt function; iloc[:,0] means slicing all row (:) and 0th column"
   ]
  },
  {
   "cell_type": "code",
   "execution_count": 28,
   "metadata": {},
   "outputs": [
    {
     "data": {
      "image/png": "[encoded data removed]",
      "text/plain": [
       "<Figure size 432x288 with 1 Axes>"
      ]
     },
     "metadata": {
      "needs_background": "light"
     },
     "output_type": "display_data"
    }
   ],
   "source": [
    "# display scatter plot\n",
    "\n",
    "plt.scatter(x=df['Waist'],y=df['AT'],color='red')\n",
    "plt.plot(df['Waist'],prediction,color='black')\n",
    "plt.show()"
   ]
  },
  {
   "cell_type": "code",
   "execution_count": 34,
   "metadata": {},
   "outputs": [
    {
     "name": "stdout",
     "output_type": "stream",
     "text": [
      "                            OLS Regression Results                            \n",
      "==============================================================================\n",
      "Dep. Variable:                     AT   R-squared:                       0.675\n",
      "Model:                            OLS   Adj. R-squared:                  0.672\n",
      "Method:                 Least Squares   F-statistic:                     222.6\n",
      "Date:                Mon, 13 Apr 2020   Prob (F-statistic):           6.80e-28\n",
      "Time:                        19:40:39   Log-Likelihood:                -534.11\n",
      "No. Observations:                 109   AIC:                             1072.\n",
      "Df Residuals:                     107   BIC:                             1078.\n",
      "Df Model:                           1                                         \n",
      "Covariance Type:            nonrobust                                         \n",
      "=================================================================================\n",
      "                    coef    std err          t      P>|t|      [0.025      0.975]\n",
      "---------------------------------------------------------------------------------\n",
      "Intercept     -1328.3420     95.923    -13.848      0.000   -1518.498   -1138.186\n",
      "np.log(Waist)   317.1356     21.258     14.918      0.000     274.994     359.277\n",
      "==============================================================================\n",
      "Omnibus:                        3.317   Durbin-Watson:                   1.599\n",
      "Prob(Omnibus):                  0.190   Jarque-Bera (JB):                2.908\n",
      "Skew:                           0.235   Prob(JB):                        0.234\n",
      "Kurtosis:                       3.647   Cond. No.                         145.\n",
      "==============================================================================\n",
      "\n",
      "Warnings:\n",
      "[1] Standard Errors assume that the covariance matrix of the errors is correctly specified.\n"
     ]
    }
   ],
   "source": [
    "# As our R square is 67% we can improve our model using 'log' function\n",
    "\n",
    "slr_log_model=smf.ols('AT~np.log(Waist)', data=df).fit()\n",
    "\n",
    "prediction_log= slr_log_model.predict(df['Waist'])\n",
    "\n",
    "print(slr_log_model.summary())\n"
   ]
  },
  {
   "cell_type": "code",
   "execution_count": 35,
   "metadata": {},
   "outputs": [
    {
     "data": {
      "image/png": "[encoded data removed]",
      "text/plain": [
       "<Figure size 432x288 with 1 Axes>"
      ]
     },
     "metadata": {
      "needs_background": "light"
     },
     "output_type": "display_data"
    }
   ],
   "source": [
    "# here R Square is slightly better i.e. 67.5%\n",
    "\n",
    "#visualize using scatter plot\n",
    "\n",
    "plt.scatter(x=df['Waist'],y=df['AT'],color='orange')\n",
    "plt.plot(df['Waist'],prediction_log,color='blue')\n",
    "plt.show()"
   ]
  },
  {
   "cell_type": "code",
   "execution_count": null,
   "metadata": {},
   "outputs": [],
   "source": []
  }
 ],
 "metadata": {
  "kernelspec": {
   "display_name": "Python 3",
   "language": "python",
   "name": "python3"
  },
  "language_info": {
   "codemirror_mode": {
    "name": "ipython",
    "version": 3
   },
   "file_extension": ".py",
   "mimetype": "text/x-python",
   "name": "python",
   "nbconvert_exporter": "python",
   "pygments_lexer": "ipython3",
   "version": "3.7.6"
  }
 },
 "nbformat": 4,
 "nbformat_minor": 4
}
