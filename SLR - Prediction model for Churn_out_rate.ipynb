{
 "cells": [
  {
   "cell_type": "code",
   "execution_count": 2,
   "metadata": {},
   "outputs": [
    {
     "data": {
      "text/html": [
       "<div>\n",
       "<style scoped>\n",
       "    .dataframe tbody tr th:only-of-type {\n",
       "        vertical-align: middle;\n",
       "    }\n",
       "\n",
       "    .dataframe tbody tr th {\n",
       "        vertical-align: top;\n",
       "    }\n",
       "\n",
       "    .dataframe thead th {\n",
       "        text-align: right;\n",
       "    }\n",
       "</style>\n",
       "<table border=\"1\" class=\"dataframe\">\n",
       "  <thead>\n",
       "    <tr style=\"text-align: right;\">\n",
       "      <th></th>\n",
       "      <th>Salary_hike</th>\n",
       "      <th>Churn_out_rate</th>\n",
       "    </tr>\n",
       "  </thead>\n",
       "  <tbody>\n",
       "    <tr>\n",
       "      <th>0</th>\n",
       "      <td>1580</td>\n",
       "      <td>92</td>\n",
       "    </tr>\n",
       "    <tr>\n",
       "      <th>1</th>\n",
       "      <td>1600</td>\n",
       "      <td>85</td>\n",
       "    </tr>\n",
       "    <tr>\n",
       "      <th>2</th>\n",
       "      <td>1610</td>\n",
       "      <td>80</td>\n",
       "    </tr>\n",
       "    <tr>\n",
       "      <th>3</th>\n",
       "      <td>1640</td>\n",
       "      <td>75</td>\n",
       "    </tr>\n",
       "    <tr>\n",
       "      <th>4</th>\n",
       "      <td>1660</td>\n",
       "      <td>72</td>\n",
       "    </tr>\n",
       "  </tbody>\n",
       "</table>\n",
       "</div>"
      ],
      "text/plain": [
       "   Salary_hike  Churn_out_rate\n",
       "0         1580              92\n",
       "1         1600              85\n",
       "2         1610              80\n",
       "3         1640              75\n",
       "4         1660              72"
      ]
     },
     "execution_count": 2,
     "metadata": {},
     "output_type": "execute_result"
    }
   ],
   "source": [
    "import pandas as pd\n",
    "import numpy as np\n",
    "import matplotlib.pyplot as plt\n",
    "import statsmodels.formula.api as smf\n",
    "from sklearn import linear_model\n",
    "\n",
    "data= pd.read_csv(\"C:/Users/Swathi/Desktop/Excelr Classes/Assignments/3.Simplelinear regression/emp_data.csv\")\n",
    "data.head()"
   ]
  },
  {
   "cell_type": "code",
   "execution_count": 4,
   "metadata": {},
   "outputs": [
    {
     "data": {
      "image/png": "[encoded data removed]",
      "text/plain": [
       "<Figure size 432x288 with 1 Axes>"
      ]
     },
     "metadata": {
      "needs_background": "light"
     },
     "output_type": "display_data"
    }
   ],
   "source": [
    "%matplotlib inline\n",
    "plt.scatter(data['Salary_hike'],data['Churn_out_rate'],color=\"purple\",marker=\"+\")\n",
    "plt.title(\"Data Set\")\n",
    "plt.xlabel(\"Salary_hike\")\n",
    "plt.ylabel(\"Churn_out_rate\")\n",
    "plt.show()"
   ]
  },
  {
   "cell_type": "code",
   "execution_count": 5,
   "metadata": {},
   "outputs": [
    {
     "name": "stderr",
     "output_type": "stream",
     "text": [
      "C:\\Users\\Swathi\\anaconda3\\lib\\site-packages\\scipy\\stats\\stats.py:1535: UserWarning: kurtosistest only valid for n>=20 ... continuing anyway, n=10\n",
      "  \"anyway, n=%i\" % int(n))\n"
     ]
    },
    {
     "name": "stdout",
     "output_type": "stream",
     "text": [
      "                              OLS Regression Results                              \n",
      "==================================================================================\n",
      "Dep. Variable:     data['Churn_out_rate']   R-squared:                       0.831\n",
      "Model:                                OLS   Adj. R-squared:                  0.810\n",
      "Method:                     Least Squares   F-statistic:                     39.40\n",
      "Date:                    Sun, 03 May 2020   Prob (F-statistic):           0.000239\n",
      "Time:                            10:32:56   Log-Likelihood:                -28.046\n",
      "No. Observations:                      10   AIC:                             60.09\n",
      "Df Residuals:                           8   BIC:                             60.70\n",
      "Df Model:                               1                                         \n",
      "Covariance Type:                nonrobust                                         \n",
      "=======================================================================================\n",
      "                          coef    std err          t      P>|t|      [0.025      0.975]\n",
      "---------------------------------------------------------------------------------------\n",
      "Intercept             244.3649     27.352      8.934      0.000     181.291     307.439\n",
      "data['Salary_hike']    -0.1015      0.016     -6.277      0.000      -0.139      -0.064\n",
      "==============================================================================\n",
      "Omnibus:                        2.201   Durbin-Watson:                   0.562\n",
      "Prob(Omnibus):                  0.333   Jarque-Bera (JB):                1.408\n",
      "Skew:                           0.851   Prob(JB):                        0.495\n",
      "Kurtosis:                       2.304   Cond. No.                     3.27e+04\n",
      "==============================================================================\n",
      "\n",
      "Warnings:\n",
      "[1] Standard Errors assume that the covariance matrix of the errors is correctly specified.\n",
      "[2] The condition number is large, 3.27e+04. This might indicate that there are\n",
      "strong multicollinearity or other numerical problems.\n"
     ]
    },
    {
     "data": {
      "image/png": "[encoded data removed]",
      "text/plain": [
       "<Figure size 432x288 with 1 Axes>"
      ]
     },
     "metadata": {
      "needs_background": "light"
     },
     "output_type": "display_data"
    }
   ],
   "source": [
    "srl_model=smf.ols(\"data['Churn_out_rate']~data['Salary_hike']\",data=data).fit()\n",
    "print(srl_model.summary())\n",
    "\n",
    "predict=srl_model.predict(data.iloc[:,0])\n",
    "\n",
    "plt.scatter(data['Salary_hike'],data['Churn_out_rate'],color=\"green\",marker=\"*\")\n",
    "plt.plot(data['Salary_hike'],predict,color=\"red\")\n",
    "plt.title(\"SLR chart\")\n",
    "plt.xlabel(\"Salary_hike\")\n",
    "plt.ylabel(\"Churn_out_rate\")\n",
    "plt.show()"
   ]
  },
  {
   "cell_type": "code",
   "execution_count": 7,
   "metadata": {},
   "outputs": [
    {
     "name": "stdout",
     "output_type": "stream",
     "text": [
      "                              OLS Regression Results                              \n",
      "==================================================================================\n",
      "Dep. Variable:     data['Churn_out_rate']   R-squared:                       0.849\n",
      "Model:                                OLS   Adj. R-squared:                  0.830\n",
      "Method:                     Least Squares   F-statistic:                     44.85\n",
      "Date:                    Sun, 03 May 2020   Prob (F-statistic):           0.000153\n",
      "Time:                            10:36:59   Log-Likelihood:                -27.502\n",
      "No. Observations:                      10   AIC:                             59.00\n",
      "Df Residuals:                           8   BIC:                             59.61\n",
      "Df Model:                               1                                         \n",
      "Covariance Type:                nonrobust                                         \n",
      "===============================================================================================\n",
      "                                  coef    std err          t      P>|t|      [0.025      0.975]\n",
      "-----------------------------------------------------------------------------------------------\n",
      "Intercept                    1381.4562    195.402      7.070      0.000     930.858    1832.054\n",
      "np.log(data['Salary_hike'])  -176.1097     26.297     -6.697      0.000    -236.751    -115.468\n",
      "==============================================================================\n",
      "Omnibus:                        2.213   Durbin-Watson:                   0.571\n",
      "Prob(Omnibus):                  0.331   Jarque-Bera (JB):                1.418\n",
      "Skew:                           0.853   Prob(JB):                        0.492\n",
      "Kurtosis:                       2.298   Cond. No.                     1.10e+03\n",
      "==============================================================================\n",
      "\n",
      "Warnings:\n",
      "[1] Standard Errors assume that the covariance matrix of the errors is correctly specified.\n",
      "[2] The condition number is large, 1.1e+03. This might indicate that there are\n",
      "strong multicollinearity or other numerical problems.\n"
     ]
    },
    {
     "data": {
      "image/png": "[encoded data removed]",
      "text/plain": [
       "<Figure size 432x288 with 1 Axes>"
      ]
     },
     "metadata": {
      "needs_background": "light"
     },
     "output_type": "display_data"
    }
   ],
   "source": [
    "#Log Model\n",
    "\n",
    "log_model=smf.ols(\"data['Churn_out_rate']~np.log(data['Salary_hike'])\",data=data).fit()\n",
    "print(log_model.summary())\n",
    "\n",
    "predict_log=log_model.predict(pd.DataFrame(data['Salary_hike']))\n",
    "\n",
    "plt.scatter(data['Salary_hike'],data['Churn_out_rate'],color=\"orange\",marker=\"*\")\n",
    "plt.plot(data['Salary_hike'],predict_log,color=\"black\")\n",
    "plt.title(\"Log Model\")\n",
    "plt.xlabel(\"Salary_hike\")\n",
    "plt.ylabel(\"Churn_out_rate\")\n",
    "plt.show()"
   ]
  },
  {
   "cell_type": "code",
   "execution_count": 8,
   "metadata": {},
   "outputs": [
    {
     "name": "stderr",
     "output_type": "stream",
     "text": [
      "C:\\Users\\Swathi\\anaconda3\\lib\\site-packages\\scipy\\stats\\stats.py:1535: UserWarning: kurtosistest only valid for n>=20 ... continuing anyway, n=10\n",
      "  \"anyway, n=%i\" % int(n))\n"
     ]
    },
    {
     "name": "stdout",
     "output_type": "stream",
     "text": [
      "                                  OLS Regression Results                                  \n",
      "==========================================================================================\n",
      "Dep. Variable:     np.log(data['Churn_out_rate'])   R-squared:                       0.874\n",
      "Model:                                        OLS   Adj. R-squared:                  0.858\n",
      "Method:                             Least Squares   F-statistic:                     55.26\n",
      "Date:                            Sun, 03 May 2020   Prob (F-statistic):           7.38e-05\n",
      "Time:                                    10:40:38   Log-Likelihood:                 16.511\n",
      "No. Observations:                              10   AIC:                            -29.02\n",
      "Df Residuals:                                   8   BIC:                            -28.42\n",
      "Df Model:                                       1                                         \n",
      "Covariance Type:                        nonrobust                                         \n",
      "=======================================================================================\n",
      "                          coef    std err          t      P>|t|      [0.025      0.975]\n",
      "---------------------------------------------------------------------------------------\n",
      "Intercept               6.6383      0.318     20.902      0.000       5.906       7.371\n",
      "data['Salary_hike']    -0.0014      0.000     -7.434      0.000      -0.002      -0.001\n",
      "==============================================================================\n",
      "Omnibus:                        1.935   Durbin-Watson:                   0.585\n",
      "Prob(Omnibus):                  0.380   Jarque-Bera (JB):                1.314\n",
      "Skew:                           0.780   Prob(JB):                        0.519\n",
      "Kurtosis:                       2.152   Cond. No.                     3.27e+04\n",
      "==============================================================================\n",
      "\n",
      "Warnings:\n",
      "[1] Standard Errors assume that the covariance matrix of the errors is correctly specified.\n",
      "[2] The condition number is large, 3.27e+04. This might indicate that there are\n",
      "strong multicollinearity or other numerical problems.\n"
     ]
    },
    {
     "data": {
      "image/png": "[encoded data removed]",
      "text/plain": [
       "<Figure size 432x288 with 1 Axes>"
      ]
     },
     "metadata": {
      "needs_background": "light"
     },
     "output_type": "display_data"
    }
   ],
   "source": [
    "#Exponential Model\n",
    "\n",
    "exp_model=smf.ols(\"np.log(data['Churn_out_rate'])~data['Salary_hike']\",data=data).fit()\n",
    "print(exp_model.summary())\n",
    "\n",
    "predict_exp=exp_model.predict(pd.DataFrame(data['Salary_hike']))\n",
    "\n",
    "pred_exp=np.exp(predict_exp)  # as we have used log(Churn_out_rate) in preparing model so we need to convert it back\n",
    "\n",
    "\n",
    "plt.scatter(data['Salary_hike'],data['Churn_out_rate'],color=\"purple\",marker=\"*\")\n",
    "plt.plot(data['Salary_hike'],np.exp(predict_exp),color=\"black\")\n",
    "plt.title(\"Exponential Model\")\n",
    "plt.xlabel(\"Salary_hike\")\n",
    "plt.ylabel(\"Churn_out_rate\")\n",
    "plt.show()"
   ]
  },
  {
   "cell_type": "code",
   "execution_count": null,
   "metadata": {},
   "outputs": [],
   "source": [
    "srl_regression=linear_model.LinearRegression()\n",
    "srl_regression.fit(data[['Salary_hike']],data.Churn_out_rate)\n",
    "\n",
    "print(\"Coefficent M: \",srl_regression.coef_)\n",
    "print(\"intercept 'B': \",srl_regression.intercept_)\n",
    "\n",
    "flag=True\n",
    "while(flag):\n",
    "    myinput=float(input(\"Enter Salary Hike: \"))\n",
    "    myoutput=srl_regression.predict([[myinput]])\n",
    "    print(\"Churn out data: \", myoutput)\n",
    "    flag=int(input(\"press 1 to continue or press 0 to exit: \"))"
   ]
  }
 ],
 "metadata": {
  "kernelspec": {
   "display_name": "Python 3",
   "language": "python",
   "name": "python3"
  },
  "language_info": {
   "codemirror_mode": {
    "name": "ipython",
    "version": 3
   },
   "file_extension": ".py",
   "mimetype": "text/x-python",
   "name": "python",
   "nbconvert_exporter": "python",
   "pygments_lexer": "ipython3",
   "version": "3.7.6"
  }
 },
 "nbformat": 4,
 "nbformat_minor": 4
}
