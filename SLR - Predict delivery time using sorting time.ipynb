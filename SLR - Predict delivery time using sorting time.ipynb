{
 "cells": [
  {
   "cell_type": "code",
   "execution_count": 1,
   "metadata": {},
   "outputs": [
    {
     "name": "stdout",
     "output_type": "stream",
     "text": [
      "(21, 2)\n"
     ]
    },
    {
     "data": {
      "text/html": [
       "<div>\n",
       "<style scoped>\n",
       "    .dataframe tbody tr th:only-of-type {\n",
       "        vertical-align: middle;\n",
       "    }\n",
       "\n",
       "    .dataframe tbody tr th {\n",
       "        vertical-align: top;\n",
       "    }\n",
       "\n",
       "    .dataframe thead th {\n",
       "        text-align: right;\n",
       "    }\n",
       "</style>\n",
       "<table border=\"1\" class=\"dataframe\">\n",
       "  <thead>\n",
       "    <tr style=\"text-align: right;\">\n",
       "      <th></th>\n",
       "      <th>Delivery_Time</th>\n",
       "      <th>Sorting_Time</th>\n",
       "    </tr>\n",
       "  </thead>\n",
       "  <tbody>\n",
       "    <tr>\n",
       "      <th>0</th>\n",
       "      <td>8.0</td>\n",
       "      <td>2</td>\n",
       "    </tr>\n",
       "    <tr>\n",
       "      <th>1</th>\n",
       "      <td>9.5</td>\n",
       "      <td>3</td>\n",
       "    </tr>\n",
       "    <tr>\n",
       "      <th>2</th>\n",
       "      <td>11.5</td>\n",
       "      <td>3</td>\n",
       "    </tr>\n",
       "  </tbody>\n",
       "</table>\n",
       "</div>"
      ],
      "text/plain": [
       "   Delivery_Time  Sorting_Time\n",
       "0            8.0             2\n",
       "1            9.5             3\n",
       "2           11.5             3"
      ]
     },
     "execution_count": 1,
     "metadata": {},
     "output_type": "execute_result"
    }
   ],
   "source": [
    "import pandas as pd\n",
    "import numpy as np\n",
    "import matplotlib.pyplot as plt\n",
    "import statsmodels.formula.api as smf\n",
    "from sklearn import linear_model\n",
    "%matplotlib inline\n",
    "\n",
    "df=pd.read_csv(\"C:/Users/Swathi/Desktop/Excelr Classes/Assignments/3.Simplelinear regression/delivery_time.csv\")\n",
    "print(df.shape)\n",
    "df.head(3)"
   ]
  },
  {
   "cell_type": "code",
   "execution_count": 2,
   "metadata": {},
   "outputs": [
    {
     "data": {
      "image/png": "[encoded data removed]",
      "text/plain": [
       "<Figure size 432x288 with 1 Axes>"
      ]
     },
     "metadata": {
      "needs_background": "light"
     },
     "output_type": "display_data"
    }
   ],
   "source": [
    "plt.scatter(x=df['Sorting_Time'],y=df['Delivery_Time'],color=\"black\",marker='*')\n",
    "plt.title(\"Dataset\")\n",
    "plt.xlabel(\"Sorting Time\")\n",
    "plt.ylabel(\"Delivery Time\")\n",
    "plt.show()\n",
    "\n"
   ]
  },
  {
   "cell_type": "code",
   "execution_count": 3,
   "metadata": {},
   "outputs": [
    {
     "name": "stdout",
     "output_type": "stream",
     "text": [
      "                             OLS Regression Results                            \n",
      "===============================================================================\n",
      "Dep. Variable:     df['Delivery_Time']   R-squared:                       0.682\n",
      "Model:                             OLS   Adj. R-squared:                  0.666\n",
      "Method:                  Least Squares   F-statistic:                     40.80\n",
      "Date:                 Sun, 03 May 2020   Prob (F-statistic):           3.98e-06\n",
      "Time:                         10:24:24   Log-Likelihood:                -51.357\n",
      "No. Observations:                   21   AIC:                             106.7\n",
      "Df Residuals:                       19   BIC:                             108.8\n",
      "Df Model:                            1                                         \n",
      "Covariance Type:             nonrobust                                         \n",
      "======================================================================================\n",
      "                         coef    std err          t      P>|t|      [0.025      0.975]\n",
      "--------------------------------------------------------------------------------------\n",
      "Intercept              6.5827      1.722      3.823      0.001       2.979      10.186\n",
      "df['Sorting_Time']     1.6490      0.258      6.387      0.000       1.109       2.189\n",
      "==============================================================================\n",
      "Omnibus:                        3.649   Durbin-Watson:                   2.012\n",
      "Prob(Omnibus):                  0.161   Jarque-Bera (JB):                2.086\n",
      "Skew:                           0.750   Prob(JB):                        0.352\n",
      "Kurtosis:                       3.367   Cond. No.                         18.3\n",
      "==============================================================================\n",
      "\n",
      "Warnings:\n",
      "[1] Standard Errors assume that the covariance matrix of the errors is correctly specified.\n"
     ]
    },
    {
     "data": {
      "image/png": "[encoded data removed]",
      "text/plain": [
       "<Figure size 432x288 with 1 Axes>"
      ]
     },
     "metadata": {
      "needs_background": "light"
     },
     "output_type": "display_data"
    }
   ],
   "source": [
    "slr_model=smf.ols(\"df['Delivery_Time']~df['Sorting_Time']\",data=df).fit()\n",
    "print(slr_model.summary())\n",
    "\n",
    "predict=slr_model.predict(df.iloc[:,1])\n",
    "\n",
    "\n",
    "import matplotlib.pylab as plt\n",
    "\n",
    "plt.scatter(x=df['Sorting_Time'],y=df['Delivery_Time'],color='r',marker='o')\n",
    "plt.plot(df['Sorting_Time'],predict,color='black')\n",
    "plt.xlabel(\"Sorting Time\")\n",
    "plt.ylabel(\"Delivery Time\")\n",
    "plt.title(\"slr_model plotting\")\n",
    "plt.show()\n",
    "\n"
   ]
  },
  {
   "cell_type": "code",
   "execution_count": 8,
   "metadata": {},
   "outputs": [
    {
     "name": "stdout",
     "output_type": "stream",
     "text": [
      "                             OLS Regression Results                            \n",
      "===============================================================================\n",
      "Dep. Variable:     df['Delivery_Time']   R-squared:                       0.695\n",
      "Model:                             OLS   Adj. R-squared:                  0.679\n",
      "Method:                  Least Squares   F-statistic:                     43.39\n",
      "Date:                 Sun, 03 May 2020   Prob (F-statistic):           2.64e-06\n",
      "Time:                         10:34:10   Log-Likelihood:                -50.912\n",
      "No. Observations:                   21   AIC:                             105.8\n",
      "Df Residuals:                       19   BIC:                             107.9\n",
      "Df Model:                            1                                         \n",
      "Covariance Type:             nonrobust                                         \n",
      "==============================================================================================\n",
      "                                 coef    std err          t      P>|t|      [0.025      0.975]\n",
      "----------------------------------------------------------------------------------------------\n",
      "Intercept                      1.1597      2.455      0.472      0.642      -3.978       6.297\n",
      "np.log(df['Sorting_Time'])     9.0434      1.373      6.587      0.000       6.170      11.917\n",
      "==============================================================================\n",
      "Omnibus:                        5.552   Durbin-Watson:                   2.159\n",
      "Prob(Omnibus):                  0.062   Jarque-Bera (JB):                3.481\n",
      "Skew:                           0.946   Prob(JB):                        0.175\n",
      "Kurtosis:                       3.628   Cond. No.                         9.08\n",
      "==============================================================================\n",
      "\n",
      "Warnings:\n",
      "[1] Standard Errors assume that the covariance matrix of the errors is correctly specified.\n"
     ]
    },
    {
     "data": {
      "image/png": "[encoded data removed]",
      "text/plain": [
       "<Figure size 432x288 with 1 Axes>"
      ]
     },
     "metadata": {
      "needs_background": "light"
     },
     "output_type": "display_data"
    }
   ],
   "source": [
    "# Log Model\n",
    "\n",
    "log_model=smf.ols(\"df['Delivery_Time']~np.log(df['Sorting_Time'])\",data=df).fit()\n",
    "print(log_model.summary())\n",
    "\n",
    "log_predict=log_model.predict(pd.DataFrame(df['Sorting_Time']))\n",
    "\n",
    "\n",
    "import matplotlib.pylab as plt\n",
    "\n",
    "plt.scatter(x=df['Sorting_Time'],y=df['Delivery_Time'],color='g',marker='o')\n",
    "plt.plot(df['Sorting_Time'],log_predict,color='black')\n",
    "plt.xlabel(\"Sorting Time\")\n",
    "plt.ylabel(\"Delivery Time\")\n",
    "plt.title(\"log_model plotting\")\n",
    "plt.show()\n"
   ]
  },
  {
   "cell_type": "code",
   "execution_count": 7,
   "metadata": {},
   "outputs": [
    {
     "name": "stdout",
     "output_type": "stream",
     "text": [
      "                                 OLS Regression Results                                \n",
      "=======================================================================================\n",
      "Dep. Variable:     np.log(df['Delivery_Time'])   R-squared:                       0.711\n",
      "Model:                                     OLS   Adj. R-squared:                  0.696\n",
      "Method:                          Least Squares   F-statistic:                     46.73\n",
      "Date:                         Sun, 03 May 2020   Prob (F-statistic):           1.59e-06\n",
      "Time:                                 10:30:32   Log-Likelihood:                 7.7920\n",
      "No. Observations:                           21   AIC:                            -11.58\n",
      "Df Residuals:                               19   BIC:                            -9.495\n",
      "Df Model:                                    1                                         \n",
      "Covariance Type:                     nonrobust                                         \n",
      "======================================================================================\n",
      "                         coef    std err          t      P>|t|      [0.025      0.975]\n",
      "--------------------------------------------------------------------------------------\n",
      "Intercept              2.1214      0.103     20.601      0.000       1.906       2.337\n",
      "df['Sorting_Time']     0.1056      0.015      6.836      0.000       0.073       0.138\n",
      "==============================================================================\n",
      "Omnibus:                        1.238   Durbin-Watson:                   1.466\n",
      "Prob(Omnibus):                  0.538   Jarque-Bera (JB):                0.544\n",
      "Skew:                           0.393   Prob(JB):                        0.762\n",
      "Kurtosis:                       3.067   Cond. No.                         18.3\n",
      "==============================================================================\n",
      "\n",
      "Warnings:\n",
      "[1] Standard Errors assume that the covariance matrix of the errors is correctly specified.\n"
     ]
    },
    {
     "data": {
      "image/png": "[encoded data removed]",
      "text/plain": [
       "<Figure size 432x288 with 1 Axes>"
      ]
     },
     "metadata": {
      "needs_background": "light"
     },
     "output_type": "display_data"
    }
   ],
   "source": [
    "#Exponential Model\n",
    "\n",
    "exp_model=smf.ols(\"np.log(df['Delivery_Time'])~(df['Sorting_Time'])\",data=df).fit()\n",
    "print(exp_model.summary())\n",
    "\n",
    "\n",
    "predict_exp=exp_model.predict(pd.DataFrame(df['Sorting_Time']))\n",
    "\n",
    "pred_exp=np.exp(predict_exp)  # as we have used log(Delivery_Time) in preparing model so we need to convert it back\n",
    "\n",
    "\n",
    "# display scatter plot with line\n",
    "\n",
    "import matplotlib.pylab as plt\n",
    "plt.scatter(x=df['Sorting_Time'],y=df['Delivery_Time'],color='r',marker='o')\n",
    "plt.plot(df['Sorting_Time'],np.exp(predict_exp),color='blue')\n",
    "plt.title(\"Exponential_model plotting\")\n",
    "plt.xlabel(\"Sorting_Time\")\n",
    "plt.ylabel(\"Delivery_Time\")\n",
    "plt.show()"
   ]
  },
  {
   "cell_type": "code",
   "execution_count": null,
   "metadata": {},
   "outputs": [],
   "source": [
    "simple_regression=linear_model.LinearRegression()\n",
    "simple_regression.fit(df[['Sorting_Time']],df.Delivery_Time)\n",
    "\n",
    "print(\"Coefficent M: \",simple_regression.coef_)\n",
    "print(\"intercept 'B': \",simple_regression.intercept_)\n",
    "\n",
    "flag=True\n",
    "while(flag):\n",
    "    myinput=int(input(\"Sorting Time: \"))\n",
    "    myoutput=simple_regression.predict([[myinput]])\n",
    "    print(\"Delivery Time: \",myoutput)\n",
    "    flag = int(input(\"press 1 to continue or Press 0 to exit : \"))"
   ]
  }
 ],
 "metadata": {
  "kernelspec": {
   "display_name": "Python 3",
   "language": "python",
   "name": "python3"
  },
  "language_info": {
   "codemirror_mode": {
    "name": "ipython",
    "version": 3
   },
   "file_extension": ".py",
   "mimetype": "text/x-python",
   "name": "python",
   "nbconvert_exporter": "python",
   "pygments_lexer": "ipython3",
   "version": "3.7.6"
  }
 },
 "nbformat": 4,
 "nbformat_minor": 4
}
