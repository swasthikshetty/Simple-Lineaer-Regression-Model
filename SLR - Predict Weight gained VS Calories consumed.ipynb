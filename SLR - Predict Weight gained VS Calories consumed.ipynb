{
 "cells": [
  {
   "cell_type": "code",
   "execution_count": 1,
   "metadata": {},
   "outputs": [
    {
     "name": "stdout",
     "output_type": "stream",
     "text": [
      "(14, 2)\n"
     ]
    },
    {
     "data": {
      "text/html": [
       "<div>\n",
       "<style scoped>\n",
       "    .dataframe tbody tr th:only-of-type {\n",
       "        vertical-align: middle;\n",
       "    }\n",
       "\n",
       "    .dataframe tbody tr th {\n",
       "        vertical-align: top;\n",
       "    }\n",
       "\n",
       "    .dataframe thead th {\n",
       "        text-align: right;\n",
       "    }\n",
       "</style>\n",
       "<table border=\"1\" class=\"dataframe\">\n",
       "  <thead>\n",
       "    <tr style=\"text-align: right;\">\n",
       "      <th></th>\n",
       "      <th>Weight_gained</th>\n",
       "      <th>Calories_Consumed</th>\n",
       "    </tr>\n",
       "  </thead>\n",
       "  <tbody>\n",
       "    <tr>\n",
       "      <th>0</th>\n",
       "      <td>108</td>\n",
       "      <td>1500</td>\n",
       "    </tr>\n",
       "    <tr>\n",
       "      <th>1</th>\n",
       "      <td>200</td>\n",
       "      <td>2300</td>\n",
       "    </tr>\n",
       "    <tr>\n",
       "      <th>2</th>\n",
       "      <td>900</td>\n",
       "      <td>3400</td>\n",
       "    </tr>\n",
       "  </tbody>\n",
       "</table>\n",
       "</div>"
      ],
      "text/plain": [
       "   Weight_gained  Calories_Consumed\n",
       "0            108               1500\n",
       "1            200               2300\n",
       "2            900               3400"
      ]
     },
     "execution_count": 1,
     "metadata": {},
     "output_type": "execute_result"
    }
   ],
   "source": [
    "import pandas as pd\n",
    "import numpy as np\n",
    "import matplotlib.pyplot as plt\n",
    "import statsmodels.formula.api as smf\n",
    "from sklearn import linear_model\n",
    "\n",
    "\n",
    "df=pd.read_csv(\"C:/Users/Swathi/Desktop/Excelr Classes/Assignments/3.Simplelinear regression/calories_consumed.csv\")\n",
    "\n",
    "print(df.shape)\n",
    "df.head(3)"
   ]
  },
  {
   "cell_type": "code",
   "execution_count": 2,
   "metadata": {},
   "outputs": [
    {
     "data": {
      "image/png": "[encoded data removed]",
      "text/plain": [
       "<Figure size 432x288 with 1 Axes>"
      ]
     },
     "metadata": {
      "needs_background": "light"
     },
     "output_type": "display_data"
    }
   ],
   "source": [
    "# visualize the plot using scatter plot\n",
    "\n",
    "%matplotlib inline\n",
    "plt.scatter(x=df['Calories_Consumed'],y=df['Weight_gained'],marker=\"o\",color=\"g\")\n",
    "plt.title(\"Scatter Plot of data set\")\n",
    "plt.xlabel(\"Calories Consumed\")\n",
    "plt.ylabel(\"Weight gained\")\n",
    "plt.show()"
   ]
  },
  {
   "cell_type": "code",
   "execution_count": 3,
   "metadata": {},
   "outputs": [
    {
     "name": "stderr",
     "output_type": "stream",
     "text": [
      "C:\\Users\\Swathi\\anaconda3\\lib\\site-packages\\scipy\\stats\\stats.py:1535: UserWarning: kurtosistest only valid for n>=20 ... continuing anyway, n=14\n",
      "  \"anyway, n=%i\" % int(n))\n"
     ]
    },
    {
     "name": "stdout",
     "output_type": "stream",
     "text": [
      "                             OLS Regression Results                            \n",
      "===============================================================================\n",
      "Dep. Variable:     df['Weight_gained']   R-squared:                       0.897\n",
      "Model:                             OLS   Adj. R-squared:                  0.888\n",
      "Method:                  Least Squares   F-statistic:                     104.3\n",
      "Date:                 Sun, 03 May 2020   Prob (F-statistic):           2.86e-07\n",
      "Time:                         10:21:00   Log-Likelihood:                -84.792\n",
      "No. Observations:                   14   AIC:                             173.6\n",
      "Df Residuals:                       12   BIC:                             174.9\n",
      "Df Model:                            1                                         \n",
      "Covariance Type:             nonrobust                                         \n",
      "===========================================================================================\n",
      "                              coef    std err          t      P>|t|      [0.025      0.975]\n",
      "-------------------------------------------------------------------------------------------\n",
      "Intercept                -625.7524    100.823     -6.206      0.000    -845.427    -406.078\n",
      "df['Calories_Consumed']     0.4202      0.041     10.211      0.000       0.331       0.510\n",
      "==============================================================================\n",
      "Omnibus:                        3.394   Durbin-Watson:                   2.537\n",
      "Prob(Omnibus):                  0.183   Jarque-Bera (JB):                1.227\n",
      "Skew:                          -0.203   Prob(JB):                        0.541\n",
      "Kurtosis:                       1.608   Cond. No.                     8.28e+03\n",
      "==============================================================================\n",
      "\n",
      "Warnings:\n",
      "[1] Standard Errors assume that the covariance matrix of the errors is correctly specified.\n",
      "[2] The condition number is large, 8.28e+03. This might indicate that there are\n",
      "strong multicollinearity or other numerical problems.\n"
     ]
    },
    {
     "data": {
      "image/png": "[encoded data removed]",
      "text/plain": [
       "<Figure size 432x288 with 1 Axes>"
      ]
     },
     "metadata": {
      "needs_background": "light"
     },
     "output_type": "display_data"
    }
   ],
   "source": [
    "# as data is small, we will not split data into test and train data set\n",
    "\n",
    "SLR_model=smf.ols(\"df['Weight_gained']~df['Calories_Consumed']\",data=df).fit()\n",
    "print(SLR_model.summary())\n",
    "\n",
    "\n",
    "predict=SLR_model.predict(df.iloc[:,1])\n",
    "\n",
    "# display scatter plot with line\n",
    "\n",
    "import matplotlib.pylab as plt\n",
    "plt.scatter(x=df['Calories_Consumed'],y=df['Weight_gained'],color='r',marker='o')\n",
    "plt.plot(df['Calories_Consumed'],predict,color='black')\n",
    "plt.xlabel(\"Calories Consumed\")\n",
    "plt.ylabel(\"Weight gained\")\n",
    "plt.show()"
   ]
  },
  {
   "cell_type": "code",
   "execution_count": 4,
   "metadata": {},
   "outputs": [
    {
     "name": "stderr",
     "output_type": "stream",
     "text": [
      "C:\\Users\\Swathi\\anaconda3\\lib\\site-packages\\scipy\\stats\\stats.py:1535: UserWarning: kurtosistest only valid for n>=20 ... continuing anyway, n=14\n",
      "  \"anyway, n=%i\" % int(n))\n"
     ]
    },
    {
     "name": "stdout",
     "output_type": "stream",
     "text": [
      "                             OLS Regression Results                            \n",
      "===============================================================================\n",
      "Dep. Variable:     df['Weight_gained']   R-squared:                       0.808\n",
      "Model:                             OLS   Adj. R-squared:                  0.792\n",
      "Method:                  Least Squares   F-statistic:                     50.40\n",
      "Date:                 Sun, 03 May 2020   Prob (F-statistic):           1.25e-05\n",
      "Time:                         10:21:00   Log-Likelihood:                -89.148\n",
      "No. Observations:                   14   AIC:                             182.3\n",
      "Df Residuals:                       12   BIC:                             183.6\n",
      "Df Model:                            1                                         \n",
      "Covariance Type:             nonrobust                                         \n",
      "===================================================================================================\n",
      "                                      coef    std err          t      P>|t|      [0.025      0.975]\n",
      "---------------------------------------------------------------------------------------------------\n",
      "Intercept                       -6955.6501   1030.908     -6.747      0.000   -9201.806   -4709.494\n",
      "np.log(df['Calories_Consumed'])   948.3717    133.580      7.100      0.000     657.325    1239.418\n",
      "==============================================================================\n",
      "Omnibus:                        3.265   Durbin-Watson:                   2.438\n",
      "Prob(Omnibus):                  0.195   Jarque-Bera (JB):                1.139\n",
      "Skew:                           0.046   Prob(JB):                        0.566\n",
      "Kurtosis:                       1.606   Cond. No.                         199.\n",
      "==============================================================================\n",
      "\n",
      "Warnings:\n",
      "[1] Standard Errors assume that the covariance matrix of the errors is correctly specified.\n"
     ]
    },
    {
     "data": {
      "image/png": "[encoded data removed]",
      "text/plain": [
       "<Figure size 432x288 with 1 Axes>"
      ]
     },
     "metadata": {
      "needs_background": "light"
     },
     "output_type": "display_data"
    }
   ],
   "source": [
    "# using log model \n",
    "\n",
    "log_model=smf.ols(\"df['Weight_gained']~np.log(df['Calories_Consumed'])\",data=df).fit()\n",
    "print(log_model.summary())\n",
    "\n",
    "\n",
    "predict_log=log_model.predict(pd.DataFrame(df['Calories_Consumed']))\n",
    "\n",
    "# display scatter plot with line\n",
    "\n",
    "import matplotlib.pylab as plt\n",
    "plt.scatter(x=df['Calories_Consumed'],y=df['Weight_gained'],color='r',marker='o')\n",
    "plt.plot(df['Calories_Consumed'],predict_log,color='blue')\n",
    "plt.title(\"log_model plotting\")\n",
    "plt.xlabel(\"Calories Consumed\")\n",
    "plt.ylabel(\"Weight gained\")\n",
    "plt.show()"
   ]
  },
  {
   "cell_type": "code",
   "execution_count": 7,
   "metadata": {},
   "outputs": [
    {
     "name": "stderr",
     "output_type": "stream",
     "text": [
      "C:\\Users\\Swathi\\anaconda3\\lib\\site-packages\\scipy\\stats\\stats.py:1535: UserWarning: kurtosistest only valid for n>=20 ... continuing anyway, n=14\n",
      "  \"anyway, n=%i\" % int(n))\n"
     ]
    },
    {
     "name": "stdout",
     "output_type": "stream",
     "text": [
      "                                 OLS Regression Results                                \n",
      "=======================================================================================\n",
      "Dep. Variable:     np.log(df['Weight_gained'])   R-squared:                       0.878\n",
      "Model:                                     OLS   Adj. R-squared:                  0.867\n",
      "Method:                          Least Squares   F-statistic:                     86.04\n",
      "Date:                         Sun, 03 May 2020   Prob (F-statistic):           8.02e-07\n",
      "Time:                                 10:31:23   Log-Likelihood:                -3.3244\n",
      "No. Observations:                           14   AIC:                             10.65\n",
      "Df Residuals:                               12   BIC:                             11.93\n",
      "Df Model:                                    1                                         \n",
      "Covariance Type:                     nonrobust                                         \n",
      "===========================================================================================\n",
      "                              coef    std err          t      P>|t|      [0.025      0.975]\n",
      "-------------------------------------------------------------------------------------------\n",
      "Intercept                   2.8387      0.299      9.479      0.000       2.186       3.491\n",
      "df['Calories_Consumed']     0.0011      0.000      9.276      0.000       0.001       0.001\n",
      "==============================================================================\n",
      "Omnibus:                       10.165   Durbin-Watson:                   3.130\n",
      "Prob(Omnibus):                  0.006   Jarque-Bera (JB):                6.120\n",
      "Skew:                          -1.240   Prob(JB):                       0.0469\n",
      "Kurtosis:                       5.083   Cond. No.                     8.28e+03\n",
      "==============================================================================\n",
      "\n",
      "Warnings:\n",
      "[1] Standard Errors assume that the covariance matrix of the errors is correctly specified.\n",
      "[2] The condition number is large, 8.28e+03. This might indicate that there are\n",
      "strong multicollinearity or other numerical problems.\n"
     ]
    },
    {
     "data": {
      "image/png": "[encoded data removed]",
      "text/plain": [
       "<Figure size 432x288 with 1 Axes>"
      ]
     },
     "metadata": {
      "needs_background": "light"
     },
     "output_type": "display_data"
    }
   ],
   "source": [
    "#Using Exponential\n",
    "\n",
    "exp_model=smf.ols(\"np.log(df['Weight_gained'])~(df['Calories_Consumed'])\",data=df).fit()\n",
    "print(exp_model.summary())\n",
    "\n",
    "\n",
    "predict_exp=exp_model.predict(pd.DataFrame(df['Calories_Consumed']))\n",
    "\n",
    "pred_exp=np.exp(predict_exp)  # as we have used log(Weight_gained) in preparing model so we need to convert it back\n",
    "\n",
    "\n",
    "# display scatter plot with line\n",
    "\n",
    "import matplotlib.pylab as plt\n",
    "plt.scatter(x=df['Calories_Consumed'],y=df['Weight_gained'],color='r',marker='o')\n",
    "plt.plot(df['Calories_Consumed'],np.exp(predict_exp),color='blue')\n",
    "plt.title(\"Exponential_model plotting\")\n",
    "plt.xlabel(\"Calories Consumed\")\n",
    "plt.ylabel(\"Weight gained\")\n",
    "plt.show()"
   ]
  },
  {
   "cell_type": "code",
   "execution_count": 6,
   "metadata": {},
   "outputs": [
    {
     "name": "stdout",
     "output_type": "stream",
     "text": [
      "Coefficent M:  [0.42015664]\n",
      "intercept 'B':  -625.7523557163213\n",
      "calories consumed: 1000\n",
      "Weight gained:  [-205.59571916]\n",
      "press 1 to continue or Press 0 to exit : 0\n"
     ]
    }
   ],
   "source": [
    "simple_regression = linear_model.LinearRegression()\n",
    "simple_regression.fit(df[['Calories_Consumed']],df.Weight_gained)\n",
    "\n",
    "print(\"Coefficent M: \",simple_regression.coef_)\n",
    "print(\"intercept 'B': \",simple_regression.intercept_)\n",
    "\n",
    "flag=True\n",
    "while(flag):\n",
    "    myinput=int(input(\"calories consumed: \"))\n",
    "    myoutput=simple_regression.predict([[myinput]])\n",
    "    print(\"Weight gained: \",myoutput)\n",
    "    flag = int(input(\"press 1 to continue or Press 0 to exit : \"))"
   ]
  },
  {
   "cell_type": "code",
   "execution_count": null,
   "metadata": {},
   "outputs": [],
   "source": []
  }
 ],
 "metadata": {
  "kernelspec": {
   "display_name": "Python 3",
   "language": "python",
   "name": "python3"
  },
  "language_info": {
   "codemirror_mode": {
    "name": "ipython",
    "version": 3
   },
   "file_extension": ".py",
   "mimetype": "text/x-python",
   "name": "python",
   "nbconvert_exporter": "python",
   "pygments_lexer": "ipython3",
   "version": "3.7.6"
  }
 },
 "nbformat": 4,
 "nbformat_minor": 4
}
